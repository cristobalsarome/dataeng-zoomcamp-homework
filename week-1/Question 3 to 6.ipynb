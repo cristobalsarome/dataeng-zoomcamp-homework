{
 "cells": [
  {
   "cell_type": "code",
   "execution_count": 1,
   "id": "46d6d9b2",
   "metadata": {},
   "outputs": [],
   "source": [
    "import pandas as pd\n",
    "import sqlalchemy\n",
    "from time import time\n",
    "from pathlib import Path\n",
    "import os"
   ]
  },
  {
   "cell_type": "code",
   "execution_count": 2,
   "id": "b649307a",
   "metadata": {},
   "outputs": [],
   "source": [
    "user = 'root'\n",
    "password = 'root'\n",
    "host = 'localhost'\n",
    "port = '5432'\n",
    "database = 'ny_taxi'\n",
    "table = 'green_taxi_rides'\n",
    "engine = sqlalchemy.create_engine(f'postgresql://{user}:{password}'\n",
    "                        f'@{host}:{port}/{database}')"
   ]
  },
  {
   "cell_type": "code",
   "execution_count": 3,
   "id": "e375ab38",
   "metadata": {},
   "outputs": [],
   "source": [
    "two_levels_up = Path(os.getcwd()).parents[1].as_posix()\n",
    "file_path = two_levels_up + '/nyc_cab_csv/green_tripdata_2019-01.csv.gz'"
   ]
  },
  {
   "cell_type": "code",
   "execution_count": 4,
   "id": "897cc2e6",
   "metadata": {},
   "outputs": [
    {
     "name": "stdout",
     "output_type": "stream",
     "text": [
      "inserted chunK nro 1 with 100000 rows. Took 8.045594453811646 seconds.\n",
      "inserted chunK nro 2 with 100000 rows. Took 7.808966636657715 seconds.\n",
      "inserted chunK nro 3 with 100000 rows. Took 7.759404182434082 seconds.\n",
      "inserted chunK nro 4 with 100000 rows. Took 7.796630382537842 seconds.\n",
      "inserted chunK nro 5 with 100000 rows. Took 8.073123216629028 seconds.\n",
      "inserted chunK nro 6 with 100000 rows. Took 8.066332578659058 seconds.\n",
      "inserted chunK nro 7 with 30918 rows. Took 2.48249888420105 seconds.\n"
     ]
    }
   ],
   "source": [
    "# Create an iterator so we can read by chunks\n",
    "df_iter = pd.read_csv(file_path, iterator=True, chunksize = 100_000,\n",
    "compression='gzip',)\n",
    "i = 0\n",
    "for df in df_iter:\n",
    "    i += 1\n",
    "    t_start = time()\n",
    "    date_time_fields = ['lpep_pickup_datetime','lpep_dropoff_datetime', #for green taxi\n",
    "                        'tpep_pickup_datetime', 'tpep_dropoff_datetime' ] # for yellow taxi\n",
    "    for dt_field in date_time_fields:\n",
    "        if dt_field in df.columns:\n",
    "            df[dt_field] = pd.to_datetime(df[dt_field])\n",
    "    df.to_sql(name = table, con = engine, if_exists = 'append')\n",
    "    t_end = time()\n",
    "    print(f'inserted chunK nro {i} with {df.shape[0]} rows. Took {t_end - t_start} seconds.')"
   ]
  },
  {
   "cell_type": "code",
   "execution_count": 5,
   "id": "3bcbde0a",
   "metadata": {},
   "outputs": [
    {
     "data": {
      "text/plain": [
       "265"
      ]
     },
     "execution_count": 5,
     "metadata": {},
     "output_type": "execute_result"
    }
   ],
   "source": [
    "zones_file_path = file_path = two_levels_up + '/nyc_cab_csv/taxi+_zone_lookup.csv'\n",
    "df_zones =  pd.read_csv(zones_file_path)\n",
    "df_zones.to_sql(name = 'taxi_zones_lookup', con = engine, if_exists = 'replace')"
   ]
  },
  {
   "cell_type": "markdown",
   "id": "2c9c07c6",
   "metadata": {},
   "source": [
    "### Question 3. Count records\n",
    "\n",
    "How many taxi trips were totally made on January 15?"
   ]
  },
  {
   "cell_type": "code",
   "execution_count": 6,
   "id": "9499c942",
   "metadata": {},
   "outputs": [
    {
     "data": {
      "text/html": [
       "<div>\n",
       "<style scoped>\n",
       "    .dataframe tbody tr th:only-of-type {\n",
       "        vertical-align: middle;\n",
       "    }\n",
       "\n",
       "    .dataframe tbody tr th {\n",
       "        vertical-align: top;\n",
       "    }\n",
       "\n",
       "    .dataframe thead th {\n",
       "        text-align: right;\n",
       "    }\n",
       "</style>\n",
       "<table border=\"1\" class=\"dataframe\">\n",
       "  <thead>\n",
       "    <tr style=\"text-align: right;\">\n",
       "      <th></th>\n",
       "      <th>count</th>\n",
       "    </tr>\n",
       "  </thead>\n",
       "  <tbody>\n",
       "    <tr>\n",
       "      <th>0</th>\n",
       "      <td>20530</td>\n",
       "    </tr>\n",
       "  </tbody>\n",
       "</table>\n",
       "</div>"
      ],
      "text/plain": [
       "   count\n",
       "0  20530"
      ]
     },
     "execution_count": 6,
     "metadata": {},
     "output_type": "execute_result"
    }
   ],
   "source": [
    "\n",
    "query = '''\n",
    "SELECT COUNT(*)\n",
    "FROM green_taxi_rides\n",
    "WHERE DATE(lpep_pickup_datetime) = '2019-01-15'\n",
    "AND DATE(lpep_dropoff_datetime) = '2019-01-15'\n",
    "'''\n",
    "pd.read_sql(query, con = engine)"
   ]
  },
  {
   "cell_type": "markdown",
   "id": "3589d7a3",
   "metadata": {},
   "source": [
    "### Question 4. Largest trip for each day\n",
    "\n",
    "Which was the day with the largest trip distance Use the pick up time for your calculations."
   ]
  },
  {
   "cell_type": "code",
   "execution_count": 7,
   "id": "85a3f1a7",
   "metadata": {},
   "outputs": [
    {
     "data": {
      "text/html": [
       "<div>\n",
       "<style scoped>\n",
       "    .dataframe tbody tr th:only-of-type {\n",
       "        vertical-align: middle;\n",
       "    }\n",
       "\n",
       "    .dataframe tbody tr th {\n",
       "        vertical-align: top;\n",
       "    }\n",
       "\n",
       "    .dataframe thead th {\n",
       "        text-align: right;\n",
       "    }\n",
       "</style>\n",
       "<table border=\"1\" class=\"dataframe\">\n",
       "  <thead>\n",
       "    <tr style=\"text-align: right;\">\n",
       "      <th></th>\n",
       "      <th>date</th>\n",
       "      <th>trip_distance</th>\n",
       "    </tr>\n",
       "  </thead>\n",
       "  <tbody>\n",
       "    <tr>\n",
       "      <th>0</th>\n",
       "      <td>2019-01-15</td>\n",
       "      <td>117.99</td>\n",
       "    </tr>\n",
       "    <tr>\n",
       "      <th>1</th>\n",
       "      <td>2019-01-18</td>\n",
       "      <td>80.96</td>\n",
       "    </tr>\n",
       "    <tr>\n",
       "      <th>2</th>\n",
       "      <td>2019-01-28</td>\n",
       "      <td>64.27</td>\n",
       "    </tr>\n",
       "  </tbody>\n",
       "</table>\n",
       "</div>"
      ],
      "text/plain": [
       "         date  trip_distance\n",
       "0  2019-01-15         117.99\n",
       "1  2019-01-18          80.96\n",
       "2  2019-01-28          64.27"
      ]
     },
     "execution_count": 7,
     "metadata": {},
     "output_type": "execute_result"
    }
   ],
   "source": [
    "query = '''\n",
    "SELECT DATE(lpep_pickup_datetime) AS date, trip_distance\n",
    "FROM green_taxi_rides\n",
    "ORDER BY trip_distance DESC\n",
    "LIMIT 3\n",
    "'''\n",
    "pd.read_sql(query, con = engine)"
   ]
  },
  {
   "cell_type": "markdown",
   "id": "1cb0a5cb",
   "metadata": {},
   "source": [
    "### Question 5. The number of passengers\n",
    "\n",
    "In 2019-01-01 how many trips had 2 and 3 passengers?"
   ]
  },
  {
   "cell_type": "code",
   "execution_count": 8,
   "id": "988ecc57",
   "metadata": {},
   "outputs": [
    {
     "data": {
      "text/html": [
       "<div>\n",
       "<style scoped>\n",
       "    .dataframe tbody tr th:only-of-type {\n",
       "        vertical-align: middle;\n",
       "    }\n",
       "\n",
       "    .dataframe tbody tr th {\n",
       "        vertical-align: top;\n",
       "    }\n",
       "\n",
       "    .dataframe thead th {\n",
       "        text-align: right;\n",
       "    }\n",
       "</style>\n",
       "<table border=\"1\" class=\"dataframe\">\n",
       "  <thead>\n",
       "    <tr style=\"text-align: right;\">\n",
       "      <th></th>\n",
       "      <th>passenger_count</th>\n",
       "      <th>count</th>\n",
       "    </tr>\n",
       "  </thead>\n",
       "  <tbody>\n",
       "    <tr>\n",
       "      <th>0</th>\n",
       "      <td>2</td>\n",
       "      <td>1282</td>\n",
       "    </tr>\n",
       "    <tr>\n",
       "      <th>1</th>\n",
       "      <td>3</td>\n",
       "      <td>254</td>\n",
       "    </tr>\n",
       "  </tbody>\n",
       "</table>\n",
       "</div>"
      ],
      "text/plain": [
       "   passenger_count  count\n",
       "0                2   1282\n",
       "1                3    254"
      ]
     },
     "execution_count": 8,
     "metadata": {},
     "output_type": "execute_result"
    }
   ],
   "source": [
    "query = '''\n",
    "SELECT passenger_count, COUNT(*)\n",
    "FROM green_taxi_rides\n",
    "WHERE passenger_count BETWEEN 2 AND 3\n",
    "AND DATE(lpep_pickup_datetime) = '2019-01-01'\n",
    "GROUP BY passenger_count\n",
    "'''\n",
    "pd.read_sql(query, con = engine)"
   ]
  },
  {
   "cell_type": "markdown",
   "id": "7c410612",
   "metadata": {},
   "source": [
    "### Question 6. Largest tip\n",
    "\n",
    "For the passengers picked up in the Astoria Zone which was the drop off zone that had the largest tip? We want the name of the zone, not the id."
   ]
  },
  {
   "cell_type": "code",
   "execution_count": 9,
   "id": "2eddc786",
   "metadata": {},
   "outputs": [
    {
     "data": {
      "text/html": [
       "<div>\n",
       "<style scoped>\n",
       "    .dataframe tbody tr th:only-of-type {\n",
       "        vertical-align: middle;\n",
       "    }\n",
       "\n",
       "    .dataframe tbody tr th {\n",
       "        vertical-align: top;\n",
       "    }\n",
       "\n",
       "    .dataframe thead th {\n",
       "        text-align: right;\n",
       "    }\n",
       "</style>\n",
       "<table border=\"1\" class=\"dataframe\">\n",
       "  <thead>\n",
       "    <tr style=\"text-align: right;\">\n",
       "      <th></th>\n",
       "      <th>dropoff_zone</th>\n",
       "      <th>q_trips</th>\n",
       "      <th>max_tip</th>\n",
       "    </tr>\n",
       "  </thead>\n",
       "  <tbody>\n",
       "    <tr>\n",
       "      <th>0</th>\n",
       "      <td>Long Island City/Queens Plaza</td>\n",
       "      <td>1105</td>\n",
       "      <td>88.00</td>\n",
       "    </tr>\n",
       "    <tr>\n",
       "      <th>1</th>\n",
       "      <td>Central Park</td>\n",
       "      <td>36</td>\n",
       "      <td>30.00</td>\n",
       "    </tr>\n",
       "    <tr>\n",
       "      <th>2</th>\n",
       "      <td>Jamaica</td>\n",
       "      <td>45</td>\n",
       "      <td>25.00</td>\n",
       "    </tr>\n",
       "    <tr>\n",
       "      <th>3</th>\n",
       "      <td>None</td>\n",
       "      <td>14</td>\n",
       "      <td>25.00</td>\n",
       "    </tr>\n",
       "    <tr>\n",
       "      <th>4</th>\n",
       "      <td>Astoria</td>\n",
       "      <td>7829</td>\n",
       "      <td>18.16</td>\n",
       "    </tr>\n",
       "  </tbody>\n",
       "</table>\n",
       "</div>"
      ],
      "text/plain": [
       "                    dropoff_zone  q_trips  max_tip\n",
       "0  Long Island City/Queens Plaza     1105    88.00\n",
       "1                   Central Park       36    30.00\n",
       "2                        Jamaica       45    25.00\n",
       "3                           None       14    25.00\n",
       "4                        Astoria     7829    18.16"
      ]
     },
     "execution_count": 9,
     "metadata": {},
     "output_type": "execute_result"
    }
   ],
   "source": [
    "query = '''\n",
    "SELECT do_zone.\"Zone\" as dropoff_zone,\n",
    "COUNT(*) AS q_trips, MAX(tip_amount) as max_tip\n",
    "FROM green_taxi_rides gtr\n",
    "LEFT JOIN taxi_zones_lookup pu_zone\n",
    "    ON gtr.\"PULocationID\" = pu_zone.\"LocationID\"\n",
    "LEFT JOIN taxi_zones_lookup do_zone\n",
    "    ON gtr.\"DOLocationID\" = do_zone.\"LocationID\"\n",
    "WHERE pu_zone.\"Zone\" = 'Astoria'\n",
    "GROUP BY do_zone.\"Zone\"\n",
    "ORDER BY max_tip DESC\n",
    "LIMIT 5\n",
    "'''\n",
    "pd.read_sql(query, con = engine)"
   ]
  },
  {
   "cell_type": "code",
   "execution_count": null,
   "id": "8a94147e",
   "metadata": {},
   "outputs": [],
   "source": []
  }
 ],
 "metadata": {
  "kernelspec": {
   "display_name": "Python 3 (ipykernel)",
   "language": "python",
   "name": "python3"
  },
  "language_info": {
   "codemirror_mode": {
    "name": "ipython",
    "version": 3
   },
   "file_extension": ".py",
   "mimetype": "text/x-python",
   "name": "python",
   "nbconvert_exporter": "python",
   "pygments_lexer": "ipython3",
   "version": "3.10.9"
  }
 },
 "nbformat": 4,
 "nbformat_minor": 5
}
